{
  "nbformat": 4,
  "nbformat_minor": 0,
  "metadata": {
    "kernelspec": {
      "name": "python3",
      "display_name": "Python 3"
    },
    "language_info": {
      "codemirror_mode": {
        "name": "ipython",
        "version": 3
      },
      "file_extension": ".py",
      "mimetype": "text/x-python",
      "name": "python",
      "nbconvert_exporter": "python",
      "pygments_lexer": "ipython3",
      "version": "3.8.1"
    },
    "colab": {
      "name": "2014.ipynb",
      "provenance": [],
      "collapsed_sections": []
    },
    "accelerator": "GPU",
    "widgets": {
      "application/vnd.jupyter.widget-state+json": {
        "12ede478560348d1b981c59e9b0ce309": {
          "model_module": "@jupyter-widgets/controls",
          "model_name": "VBoxModel",
          "state": {
            "_view_name": "VBoxView",
            "_dom_classes": [],
            "_model_name": "VBoxModel",
            "_view_module": "@jupyter-widgets/controls",
            "_model_module_version": "1.5.0",
            "_view_count": null,
            "_view_module_version": "1.5.0",
            "box_style": "",
            "layout": "IPY_MODEL_61f2890aed814e52afe59c0473263f26",
            "_model_module": "@jupyter-widgets/controls",
            "children": [
              "IPY_MODEL_35198e4d1ed64a3680dae32c97c6a827",
              "IPY_MODEL_847c143c6c9549d4bb9e80be43465d0f"
            ]
          }
        },
        "61f2890aed814e52afe59c0473263f26": {
          "model_module": "@jupyter-widgets/base",
          "model_name": "LayoutModel",
          "state": {
            "_view_name": "LayoutView",
            "grid_template_rows": null,
            "right": null,
            "justify_content": null,
            "_view_module": "@jupyter-widgets/base",
            "overflow": null,
            "_model_module_version": "1.2.0",
            "_view_count": null,
            "flex_flow": null,
            "width": null,
            "min_width": null,
            "border": null,
            "align_items": null,
            "bottom": null,
            "_model_module": "@jupyter-widgets/base",
            "top": null,
            "grid_column": null,
            "overflow_y": null,
            "overflow_x": null,
            "grid_auto_flow": null,
            "grid_area": null,
            "grid_template_columns": null,
            "flex": null,
            "_model_name": "LayoutModel",
            "justify_items": null,
            "grid_row": null,
            "max_height": null,
            "align_content": null,
            "visibility": null,
            "align_self": null,
            "height": null,
            "min_height": null,
            "padding": null,
            "grid_auto_rows": null,
            "grid_gap": null,
            "max_width": null,
            "order": null,
            "_view_module_version": "1.2.0",
            "grid_template_areas": null,
            "object_position": null,
            "object_fit": null,
            "grid_auto_columns": null,
            "margin": null,
            "display": null,
            "left": null
          }
        },
        "35198e4d1ed64a3680dae32c97c6a827": {
          "model_module": "@jupyter-widgets/controls",
          "model_name": "IntProgressModel",
          "state": {
            "_view_name": "ProgressView",
            "style": "IPY_MODEL_d77506d5b6e94839b82498790b3b03c2",
            "_dom_classes": [],
            "description": "",
            "_model_name": "IntProgressModel",
            "bar_style": "",
            "max": 720,
            "_view_module": "@jupyter-widgets/controls",
            "_model_module_version": "1.5.0",
            "value": 720,
            "_view_count": null,
            "_view_module_version": "1.5.0",
            "orientation": "horizontal",
            "min": 0,
            "description_tooltip": null,
            "_model_module": "@jupyter-widgets/controls",
            "layout": "IPY_MODEL_9145fd0aa4b64dac82f37d44c7376ca1"
          }
        },
        "847c143c6c9549d4bb9e80be43465d0f": {
          "model_module": "@jupyter-widgets/controls",
          "model_name": "HTMLModel",
          "state": {
            "_view_name": "HTMLView",
            "style": "IPY_MODEL_8b32f5aa4c0448089ca3f1181db3135e",
            "_dom_classes": [],
            "description": "",
            "_model_name": "HTMLModel",
            "placeholder": "​",
            "_view_module": "@jupyter-widgets/controls",
            "_model_module_version": "1.5.0",
            "value": "Processing word 719/720, time by word: 0.024095773696899414s",
            "_view_count": null,
            "_view_module_version": "1.5.0",
            "description_tooltip": null,
            "_model_module": "@jupyter-widgets/controls",
            "layout": "IPY_MODEL_b7d9e506c86d45e0919d9cb515c7bdb5"
          }
        },
        "d77506d5b6e94839b82498790b3b03c2": {
          "model_module": "@jupyter-widgets/controls",
          "model_name": "ProgressStyleModel",
          "state": {
            "_view_name": "StyleView",
            "_model_name": "ProgressStyleModel",
            "description_width": "",
            "_view_module": "@jupyter-widgets/base",
            "_model_module_version": "1.5.0",
            "_view_count": null,
            "_view_module_version": "1.2.0",
            "bar_color": null,
            "_model_module": "@jupyter-widgets/controls"
          }
        },
        "9145fd0aa4b64dac82f37d44c7376ca1": {
          "model_module": "@jupyter-widgets/base",
          "model_name": "LayoutModel",
          "state": {
            "_view_name": "LayoutView",
            "grid_template_rows": null,
            "right": null,
            "justify_content": null,
            "_view_module": "@jupyter-widgets/base",
            "overflow": null,
            "_model_module_version": "1.2.0",
            "_view_count": null,
            "flex_flow": null,
            "width": null,
            "min_width": null,
            "border": null,
            "align_items": null,
            "bottom": null,
            "_model_module": "@jupyter-widgets/base",
            "top": null,
            "grid_column": null,
            "overflow_y": null,
            "overflow_x": null,
            "grid_auto_flow": null,
            "grid_area": null,
            "grid_template_columns": null,
            "flex": null,
            "_model_name": "LayoutModel",
            "justify_items": null,
            "grid_row": null,
            "max_height": null,
            "align_content": null,
            "visibility": null,
            "align_self": null,
            "height": null,
            "min_height": null,
            "padding": null,
            "grid_auto_rows": null,
            "grid_gap": null,
            "max_width": null,
            "order": null,
            "_view_module_version": "1.2.0",
            "grid_template_areas": null,
            "object_position": null,
            "object_fit": null,
            "grid_auto_columns": null,
            "margin": null,
            "display": null,
            "left": null
          }
        },
        "8b32f5aa4c0448089ca3f1181db3135e": {
          "model_module": "@jupyter-widgets/controls",
          "model_name": "DescriptionStyleModel",
          "state": {
            "_view_name": "StyleView",
            "_model_name": "DescriptionStyleModel",
            "description_width": "",
            "_view_module": "@jupyter-widgets/base",
            "_model_module_version": "1.5.0",
            "_view_count": null,
            "_view_module_version": "1.2.0",
            "_model_module": "@jupyter-widgets/controls"
          }
        },
        "b7d9e506c86d45e0919d9cb515c7bdb5": {
          "model_module": "@jupyter-widgets/base",
          "model_name": "LayoutModel",
          "state": {
            "_view_name": "LayoutView",
            "grid_template_rows": null,
            "right": null,
            "justify_content": null,
            "_view_module": "@jupyter-widgets/base",
            "overflow": null,
            "_model_module_version": "1.2.0",
            "_view_count": null,
            "flex_flow": null,
            "width": null,
            "min_width": null,
            "border": null,
            "align_items": null,
            "bottom": null,
            "_model_module": "@jupyter-widgets/base",
            "top": null,
            "grid_column": null,
            "overflow_y": null,
            "overflow_x": null,
            "grid_auto_flow": null,
            "grid_area": null,
            "grid_template_columns": null,
            "flex": null,
            "_model_name": "LayoutModel",
            "justify_items": null,
            "grid_row": null,
            "max_height": null,
            "align_content": null,
            "visibility": null,
            "align_self": null,
            "height": null,
            "min_height": null,
            "padding": null,
            "grid_auto_rows": null,
            "grid_gap": null,
            "max_width": null,
            "order": null,
            "_view_module_version": "1.2.0",
            "grid_template_areas": null,
            "object_position": null,
            "object_fit": null,
            "grid_auto_columns": null,
            "margin": null,
            "display": null,
            "left": null
          }
        }
      }
    }
  },
  "cells": [
    {
      "cell_type": "code",
      "metadata": {
        "id": "Wv4BvsEfRfaW",
        "colab_type": "code",
        "colab": {}
      },
      "source": [
        "%config IPCompleter.greedy=True"
      ],
      "execution_count": 0,
      "outputs": []
    },
    {
      "cell_type": "code",
      "metadata": {
        "id": "FHchqm7ARfas",
        "colab_type": "code",
        "colab": {}
      },
      "source": [
        "import os\n",
        "import xml.etree.ElementTree as ET\n",
        "import re\n",
        "import string\n",
        "import matplotlib.pyplot as plt\n",
        "import torch"
      ],
      "execution_count": 0,
      "outputs": []
    },
    {
      "cell_type": "code",
      "metadata": {
        "id": "xBZyZF1JRfa_",
        "colab_type": "code",
        "colab": {}
      },
      "source": [
        "def rule(line):\n",
        "    if len(line) == 0: # remove empty line\n",
        "        return False\n",
        "    if line[0] == '*': # this char seems to indicate a comment\n",
        "        return False\n",
        "    return True"
      ],
      "execution_count": 0,
      "outputs": []
    },
    {
      "cell_type": "code",
      "metadata": {
        "id": "jBULw2_jRfbP",
        "colab_type": "code",
        "colab": {}
      },
      "source": [
        "def clean_word(word):\n",
        "    s = \"#/-_ \\n\"\n",
        "    w= word.rstrip(s)\n",
        "    return w.lstrip(s)"
      ],
      "execution_count": 0,
      "outputs": []
    },
    {
      "cell_type": "code",
      "metadata": {
        "id": "JEX4yIelRfbe",
        "colab_type": "code",
        "outputId": "deb47091-76a6-4baf-9d81-f12dce2218ac",
        "colab": {
          "base_uri": "https://localhost:8080/",
          "height": 35
        }
      },
      "source": [
        "clean_word('\\n     /re-eff #')"
      ],
      "execution_count": 4,
      "outputs": [
        {
          "output_type": "execute_result",
          "data": {
            "text/plain": [
              "'re-eff'"
            ]
          },
          "metadata": {
            "tags": []
          },
          "execution_count": 4
        }
      ]
    },
    {
      "cell_type": "code",
      "metadata": {
        "id": "Ly8U5y8RRfbs",
        "colab_type": "code",
        "outputId": "bc423261-5c30-47f3-a218-3b698b2a4262",
        "colab": {
          "base_uri": "https://localhost:8080/",
          "height": 35
        }
      },
      "source": [
        "text = '\\n\\n\\n Recorddate:2070-02-24\\n'\n",
        "\n",
        "re.sub(r'[\\n]','',text)\n",
        "text.strip('\\n ')\n"
      ],
      "execution_count": 5,
      "outputs": [
        {
          "output_type": "execute_result",
          "data": {
            "text/plain": [
              "'Recorddate:2070-02-24'"
            ]
          },
          "metadata": {
            "tags": []
          },
          "execution_count": 5
        }
      ]
    },
    {
      "cell_type": "code",
      "metadata": {
        "id": "-KI4OBusRfb4",
        "colab_type": "code",
        "colab": {}
      },
      "source": [
        "def extract_words(text, tags):\n",
        "    tag ='O'\n",
        "    body = {\n",
        "        'start': 0,\n",
        "        'end' : 0\n",
        "    }\n",
        "    if tags:\n",
        "        tag, body = tags.pop(0)\n",
        "    words = []\n",
        "    word = ''\n",
        "    for index, char in enumerate(text):\n",
        "        \n",
        "        if char == ' ' or char == '\\n':\n",
        "            if word:\n",
        "                if index > int(body['start']) and index <= (int(body['end']) + 1):\n",
        "                    words.append((body['TYPE'], clean_word(word)))\n",
        "                else:\n",
        "                    words.append(('O', clean_word(word)))\n",
        "            word = ''\n",
        "        else:\n",
        "            word += char\n",
        "        \n",
        "        if index > int(body['end']) and tags:\n",
        "            tag, body = tags.pop(0)\n",
        "    \n",
        "    return words\n",
        "            \n",
        "        \n",
        "    "
      ],
      "execution_count": 0,
      "outputs": []
    },
    {
      "cell_type": "code",
      "metadata": {
        "id": "F8tVGg__RfcC",
        "colab_type": "code",
        "outputId": "b1f15c2e-4fd9-4344-8979-411c21767fd4",
        "colab": {
          "base_uri": "https://localhost:8080/",
          "height": 126
        }
      },
      "source": [
        "path = './Data'\n",
        "\n",
        "if not os.path.isdir(path): \n",
        "    raise   Exception('Enter valid directory path')\n",
        "\n",
        "for file in os.listdir(path)[:2]:\n",
        "    print(file)\n",
        "    tree = ET.parse(os.path.join(path, file))\n",
        "    root = tree.getroot()\n",
        "    print(root.tag)\n",
        "    \n",
        "    for child in root:\n",
        "        print(child.tag)\n",
        "        if child.tag == 'TEXT':\n",
        "            text = child.text\n",
        "            print(len(text))\n",
        "            print(text[4680:4685])\n",
        "            l = text.splitlines()\n",
        "        \n",
        "        if child.tag == 'TAGS':\n",
        "            tags = []\n",
        "            for tag in child:\n",
        "                tags.append((tag.tag, tag.attrib))\n",
        "    w = extract_words(text, tags)\n",
        "    break\n",
        "    \n",
        "\n",
        "    \n"
      ],
      "execution_count": 7,
      "outputs": [
        {
          "output_type": "stream",
          "text": [
            "282-01.xml\n",
            "deIdi2b2\n",
            "TEXT\n",
            "4750\n",
            "62884\n",
            "TAGS\n"
          ],
          "name": "stdout"
        }
      ]
    },
    {
      "cell_type": "code",
      "metadata": {
        "id": "tt2CbUusRfcQ",
        "colab_type": "code",
        "outputId": "99d96148-4a45-4810-89ce-3776e9e8a57c",
        "colab": {
          "base_uri": "https://localhost:8080/",
          "height": 55
        }
      },
      "source": [
        "print(w[:10])"
      ],
      "execution_count": 8,
      "outputs": [
        {
          "output_type": "stream",
          "text": [
            "[('O', 'Record'), ('O', 'date:'), ('DATE', '2070-02-24'), ('DATE', 'February'), ('DATE', '24,'), ('DATE', '2070'), ('DOCTOR', 'Leon'), ('DOCTOR', 'F.'), ('DOCTOR', 'Craft,'), ('O', 'M.D.')]\n"
          ],
          "name": "stdout"
        }
      ]
    },
    {
      "cell_type": "code",
      "metadata": {
        "id": "76BC0kTzRfcc",
        "colab_type": "code",
        "outputId": "e545657c-dff7-4700-c8a0-18fe6829aa88",
        "colab": {
          "base_uri": "https://localhost:8080/",
          "height": 964
        }
      },
      "source": [
        "list(filter(lambda i : i[0] != 'O', w))[:300]"
      ],
      "execution_count": 9,
      "outputs": [
        {
          "output_type": "execute_result",
          "data": {
            "text/plain": [
              "[('DATE', '2070-02-24'),\n",
              " ('DATE', 'February'),\n",
              " ('DATE', '24,'),\n",
              " ('DATE', '2070'),\n",
              " ('DOCTOR', 'Leon'),\n",
              " ('DOCTOR', 'F.'),\n",
              " ('DOCTOR', 'Craft,'),\n",
              " ('HOSPITAL', 'North'),\n",
              " ('HOSPITAL', 'Penn'),\n",
              " ('HOSPITAL', 'Hospital'),\n",
              " ('STREET', '169'),\n",
              " ('STREET', 'Tamworth'),\n",
              " ('STREET', 'Place'),\n",
              " ('CITY', 'Garnett,'),\n",
              " ('STATE', 'CA'),\n",
              " ('ZIP', '47749'),\n",
              " ('PATIENT', 'Peter'),\n",
              " ('PATIENT', 'Joshi'),\n",
              " ('MEDICALRECORD', '453-39-84-4'),\n",
              " ('DOCTOR', 'Craft:'),\n",
              " ('PATIENT', 'Peter'),\n",
              " ('PATIENT', 'Joshi'),\n",
              " ('DATE', 'February'),\n",
              " ('DATE', '24th.'),\n",
              " ('PATIENT', 'Joshi'),\n",
              " ('PATIENT', 'Joshi'),\n",
              " ('PATIENT', 'Peter'),\n",
              " ('PATIENT', 'Joshi'),\n",
              " ('MEDICALRECORD', '453-39-84-4'),\n",
              " ('DATE', '02/24/70'),\n",
              " ('DATE', 'December'),\n",
              " ('DATE', 'December.'),\n",
              " ('PATIENT', 'Joshi'),\n",
              " ('PATIENT', 'Joshi'),\n",
              " ('PATIENT', 'Joshi'),\n",
              " ('PATIENT', 'Peter'),\n",
              " ('PATIENT', 'Joshi'),\n",
              " ('MEDICALRECORD', '453-39-84-4'),\n",
              " ('DATE', '02/24/70'),\n",
              " ('DOCTOR', 'John'),\n",
              " ('DOCTOR', 'Riggs,'),\n",
              " ('DOCTOR', 'quandt'),\n",
              " ('DOCTOR', 'Corrine'),\n",
              " ('DOCTOR', 'James,'),\n",
              " ('HOSPITAL', 'Hospital'),\n",
              " ('HOSPITAL', 'Regional'),\n",
              " ('STREET', '28'),\n",
              " ('STREET', 'Aberdeen'),\n",
              " ('STREET', 'Lane'),\n",
              " ('CITY', 'Etowah,'),\n",
              " ('STATE', 'CA'),\n",
              " ('ZIP', '62884')]"
            ]
          },
          "metadata": {
            "tags": []
          },
          "execution_count": 9
        }
      ]
    },
    {
      "cell_type": "markdown",
      "metadata": {
        "id": "mjSB93MCRfcp",
        "colab_type": "text"
      },
      "source": [
        "### embed the vector and the test"
      ]
    },
    {
      "cell_type": "markdown",
      "metadata": {
        "id": "0SPHatKQRfcv",
        "colab_type": "text"
      },
      "source": [
        "#### target\n"
      ]
    },
    {
      "cell_type": "code",
      "metadata": {
        "id": "sqa3CBECRfcy",
        "colab_type": "code",
        "colab": {}
      },
      "source": [
        "targets = {\n",
        "    'DOCTOR': 0,\n",
        "    'HOSPITAL': 1,\n",
        "    'MEDICALRECORD': 2,\n",
        "    'STREET': 3,\n",
        "    'CITY': 4,\n",
        "    'STATE': 5,\n",
        "    'ZIP': 6,\n",
        "    'DATE': 7,\n",
        "    'PATIENT': 8,\n",
        "    'O':9\n",
        "}\n",
        "def compute_target(words):\n",
        "    t = [targets[i[0]] for i in words]\n",
        "    return torch.tensor(t)\n",
        "    #return torch.eye(len(targets))[t,:]\n",
        "    "
      ],
      "execution_count": 0,
      "outputs": []
    },
    {
      "cell_type": "code",
      "metadata": {
        "id": "9F_xeYrgRfdG",
        "colab_type": "code",
        "outputId": "f2bcc871-a498-4fc1-feea-1eb34af5b7d7",
        "colab": {
          "base_uri": "https://localhost:8080/",
          "height": 564
        }
      },
      "source": [
        "compute_target(w)"
      ],
      "execution_count": 51,
      "outputs": [
        {
          "output_type": "execute_result",
          "data": {
            "text/plain": [
              "tensor([9, 9, 7, 7, 7, 7, 0, 0, 0, 9, 1, 1, 1, 3, 3, 3, 4, 5, 6, 9, 8, 8, 9, 2,\n",
              "        9, 9, 0, 9, 9, 9, 9, 9, 9, 8, 8, 9, 9, 9, 9, 9, 7, 7, 9, 8, 9, 9, 9, 9,\n",
              "        9, 9, 9, 9, 9, 9, 9, 9, 9, 9, 9, 9, 9, 9, 9, 9, 9, 9, 9, 9, 9, 9, 9, 9,\n",
              "        9, 9, 9, 9, 9, 9, 9, 9, 9, 9, 9, 9, 9, 9, 9, 9, 9, 9, 9, 9, 9, 9, 9, 9,\n",
              "        9, 9, 9, 9, 9, 9, 9, 9, 9, 9, 9, 9, 9, 9, 9, 9, 9, 9, 9, 9, 9, 9, 9, 9,\n",
              "        9, 9, 9, 9, 9, 9, 9, 9, 9, 9, 9, 9, 9, 9, 9, 9, 9, 9, 9, 9, 9, 9, 9, 9,\n",
              "        9, 9, 9, 9, 9, 9, 9, 9, 9, 9, 9, 9, 9, 9, 9, 9, 9, 9, 9, 9, 9, 9, 9, 9,\n",
              "        9, 9, 9, 9, 9, 9, 9, 9, 8, 9, 9, 9, 9, 9, 9, 9, 9, 9, 9, 9, 9, 9, 9, 9,\n",
              "        9, 9, 9, 9, 9, 9, 9, 9, 9, 9, 9, 9, 9, 9, 9, 9, 9, 9, 9, 9, 9, 9, 9, 9,\n",
              "        9, 9, 9, 9, 9, 9, 9, 9, 9, 9, 9, 9, 9, 9, 9, 9, 9, 9, 9, 9, 9, 9, 9, 9,\n",
              "        9, 9, 9, 9, 9, 9, 9, 9, 9, 9, 9, 9, 9, 9, 9, 9, 9, 9, 9, 9, 9, 9, 9, 9,\n",
              "        8, 8, 9, 2, 9, 7, 9, 9, 9, 9, 9, 9, 9, 9, 9, 9, 9, 9, 9, 9, 9, 9, 9, 9,\n",
              "        9, 9, 9, 9, 9, 9, 9, 9, 9, 9, 9, 9, 9, 9, 9, 9, 9, 9, 9, 9, 9, 9, 9, 9,\n",
              "        9, 9, 9, 9, 9, 9, 9, 9, 9, 9, 9, 9, 9, 9, 9, 9, 9, 9, 9, 9, 9, 9, 9, 9,\n",
              "        9, 9, 9, 9, 9, 9, 9, 9, 9, 9, 9, 9, 9, 9, 9, 9, 9, 9, 9, 9, 9, 9, 9, 9,\n",
              "        9, 9, 9, 9, 9, 9, 9, 9, 9, 9, 9, 9, 9, 9, 9, 9, 9, 9, 9, 9, 9, 9, 9, 9,\n",
              "        9, 9, 9, 9, 9, 9, 9, 9, 9, 9, 9, 9, 9, 9, 9, 9, 9, 9, 9, 9, 9, 9, 9, 9,\n",
              "        9, 9, 9, 9, 9, 9, 9, 9, 9, 9, 9, 7, 9, 9, 9, 9, 9, 9, 9, 9, 9, 9, 9, 9,\n",
              "        9, 9, 9, 9, 9, 9, 9, 9, 9, 9, 9, 9, 9, 9, 9, 9, 7, 9, 9, 9, 9, 9, 9, 9,\n",
              "        9, 8, 9, 9, 9, 9, 9, 9, 9, 9, 9, 9, 9, 9, 9, 9, 9, 9, 9, 9, 9, 9, 9, 9,\n",
              "        9, 9, 9, 9, 8, 9, 9, 9, 9, 9, 9, 9, 9, 9, 9, 9, 9, 9, 9, 9, 9, 9, 9, 9,\n",
              "        9, 9, 9, 9, 9, 9, 9, 9, 9, 9, 9, 9, 9, 9, 9, 9, 9, 9, 9, 9, 9, 9, 9, 9,\n",
              "        9, 9, 9, 8, 9, 9, 9, 9, 9, 9, 9, 9, 9, 9, 9, 9, 9, 9, 9, 9, 9, 9, 9, 9,\n",
              "        9, 9, 9, 9, 9, 9, 9, 9, 9, 9, 9, 9, 9, 9, 9, 9, 9, 9, 9, 9, 9, 9, 9, 9,\n",
              "        9, 9, 9, 9, 9, 9, 9, 9, 9, 9, 9, 9, 9, 9, 9, 9, 9, 9, 9, 9, 9, 9, 9, 9,\n",
              "        9, 9, 9, 9, 9, 9, 9, 9, 9, 9, 9, 9, 9, 9, 9, 9, 9, 9, 9, 9, 9, 9, 9, 9,\n",
              "        9, 9, 9, 9, 9, 9, 9, 9, 9, 9, 9, 9, 9, 9, 9, 9, 9, 9, 9, 9, 9, 9, 9, 9,\n",
              "        9, 9, 9, 9, 9, 9, 9, 9, 9, 9, 9, 9, 8, 8, 9, 2, 9, 7, 9, 9, 9, 9, 9, 9,\n",
              "        9, 9, 9, 9, 9, 9, 9, 9, 9, 9, 9, 9, 9, 9, 9, 9, 9, 9, 9, 9, 9, 9, 9, 9,\n",
              "        0, 0, 9, 0, 9, 0, 0, 9, 1, 1, 9, 3, 3, 3, 4, 5, 6, 9, 9, 9, 9, 9, 9, 9])"
            ]
          },
          "metadata": {
            "tags": []
          },
          "execution_count": 51
        }
      ]
    },
    {
      "cell_type": "code",
      "metadata": {
        "id": "zM4bykUfShFA",
        "colab_type": "code",
        "outputId": "f7629481-fd04-4a4f-f243-c27e57a6d407",
        "colab": {
          "base_uri": "https://localhost:8080/",
          "height": 1000
        }
      },
      "source": [
        "! pip install flair"
      ],
      "execution_count": 12,
      "outputs": [
        {
          "output_type": "stream",
          "text": [
            "Collecting flair\n",
            "\u001b[?25l  Downloading https://files.pythonhosted.org/packages/03/29/81e3c9a829ec50857c23d82560941625f6b42ce76ee7c56ea9529e959d18/flair-0.4.5-py3-none-any.whl (136kB)\n",
            "\r\u001b[K     |██▍                             | 10kB 23.8MB/s eta 0:00:01\r\u001b[K     |████▉                           | 20kB 3.2MB/s eta 0:00:01\r\u001b[K     |███████▏                        | 30kB 4.2MB/s eta 0:00:01\r\u001b[K     |█████████▋                      | 40kB 3.0MB/s eta 0:00:01\r\u001b[K     |████████████                    | 51kB 3.4MB/s eta 0:00:01\r\u001b[K     |██████████████▍                 | 61kB 4.0MB/s eta 0:00:01\r\u001b[K     |████████████████▉               | 71kB 4.3MB/s eta 0:00:01\r\u001b[K     |███████████████████▏            | 81kB 4.7MB/s eta 0:00:01\r\u001b[K     |█████████████████████▋          | 92kB 5.2MB/s eta 0:00:01\r\u001b[K     |████████████████████████        | 102kB 4.9MB/s eta 0:00:01\r\u001b[K     |██████████████████████████▍     | 112kB 4.9MB/s eta 0:00:01\r\u001b[K     |████████████████████████████▊   | 122kB 4.9MB/s eta 0:00:01\r\u001b[K     |███████████████████████████████▏| 133kB 4.9MB/s eta 0:00:01\r\u001b[K     |████████████████████████████████| 143kB 4.9MB/s \n",
            "\u001b[?25hRequirement already satisfied: tabulate in /usr/local/lib/python3.6/dist-packages (from flair) (0.8.6)\n",
            "Collecting deprecated>=1.2.4\n",
            "  Downloading https://files.pythonhosted.org/packages/f6/89/62912e01f3cede11edcc0abf81298e3439d9c06c8dce644369380ed13f6d/Deprecated-1.2.7-py2.py3-none-any.whl\n",
            "Collecting sqlitedict>=1.6.0\n",
            "  Downloading https://files.pythonhosted.org/packages/0f/1c/c757b93147a219cf1e25cef7e1ad9b595b7f802159493c45ce116521caff/sqlitedict-1.6.0.tar.gz\n",
            "Collecting transformers>=2.3.0\n",
            "\u001b[?25l  Downloading https://files.pythonhosted.org/packages/ee/fc/bd726a15ab2c66dc09306689d04da07a3770dad724f0883f0a4bfb745087/transformers-2.4.1-py3-none-any.whl (475kB)\n",
            "\u001b[K     |████████████████████████████████| 481kB 10.5MB/s \n",
            "\u001b[?25hRequirement already satisfied: matplotlib>=2.2.3 in /usr/local/lib/python3.6/dist-packages (from flair) (3.1.2)\n",
            "Collecting bpemb>=0.2.9\n",
            "  Downloading https://files.pythonhosted.org/packages/bc/70/468a9652095b370f797ed37ff77e742b11565c6fd79eaeca5f2e50b164a7/bpemb-0.3.0-py3-none-any.whl\n",
            "Requirement already satisfied: urllib3<1.25,>=1.20 in /usr/local/lib/python3.6/dist-packages (from flair) (1.24.3)\n",
            "Requirement already satisfied: regex in /usr/local/lib/python3.6/dist-packages (from flair) (2019.12.20)\n",
            "Requirement already satisfied: tqdm>=4.26.0 in /usr/local/lib/python3.6/dist-packages (from flair) (4.28.1)\n",
            "Requirement already satisfied: python-dateutil>=2.6.1 in /usr/local/lib/python3.6/dist-packages (from flair) (2.6.1)\n",
            "Collecting mpld3==0.3\n",
            "\u001b[?25l  Downloading https://files.pythonhosted.org/packages/91/95/a52d3a83d0a29ba0d6898f6727e9858fe7a43f6c2ce81a5fe7e05f0f4912/mpld3-0.3.tar.gz (788kB)\n",
            "\u001b[K     |████████████████████████████████| 798kB 22.5MB/s \n",
            "\u001b[?25hRequirement already satisfied: hyperopt>=0.1.1 in /usr/local/lib/python3.6/dist-packages (from flair) (0.1.2)\n",
            "Collecting langdetect\n",
            "\u001b[?25l  Downloading https://files.pythonhosted.org/packages/59/59/4bc44158a767a6d66de18c4136c8aa90491d56cc951c10b74dd1e13213c9/langdetect-1.0.7.zip (998kB)\n",
            "\u001b[K     |████████████████████████████████| 1.0MB 29.4MB/s \n",
            "\u001b[?25hCollecting pytest>=5.3.2\n",
            "\u001b[?25l  Downloading https://files.pythonhosted.org/packages/a5/c0/34033b2df7718b91c667bd259d5ce632ec3720198b7068c0ba6f6104ff89/pytest-5.3.5-py3-none-any.whl (235kB)\n",
            "\u001b[K     |████████████████████████████████| 235kB 45.7MB/s \n",
            "\u001b[?25hCollecting segtok>=1.5.7\n",
            "  Downloading https://files.pythonhosted.org/packages/1d/59/6ed78856ab99d2da04084b59e7da797972baa0efecb71546b16d48e49d9b/segtok-1.5.7.tar.gz\n",
            "Requirement already satisfied: gensim>=3.4.0 in /usr/local/lib/python3.6/dist-packages (from flair) (3.6.0)\n",
            "Requirement already satisfied: scikit-learn>=0.21.3 in /usr/local/lib/python3.6/dist-packages (from flair) (0.22.1)\n",
            "Requirement already satisfied: torch>=1.1.0 in /usr/local/lib/python3.6/dist-packages (from flair) (1.4.0)\n",
            "Requirement already satisfied: wrapt<2,>=1.10 in /usr/local/lib/python3.6/dist-packages (from deprecated>=1.2.4->flair) (1.11.2)\n",
            "Requirement already satisfied: filelock in /usr/local/lib/python3.6/dist-packages (from transformers>=2.3.0->flair) (3.0.12)\n",
            "Collecting sentencepiece\n",
            "\u001b[?25l  Downloading https://files.pythonhosted.org/packages/74/f4/2d5214cbf13d06e7cb2c20d84115ca25b53ea76fa1f0ade0e3c9749de214/sentencepiece-0.1.85-cp36-cp36m-manylinux1_x86_64.whl (1.0MB)\n",
            "\u001b[K     |████████████████████████████████| 1.0MB 49.0MB/s \n",
            "\u001b[?25hCollecting tokenizers==0.0.11\n",
            "\u001b[?25l  Downloading https://files.pythonhosted.org/packages/5e/36/7af38d572c935f8e0462ec7b4f7a46d73a2b3b1a938f50a5e8132d5b2dc5/tokenizers-0.0.11-cp36-cp36m-manylinux1_x86_64.whl (3.1MB)\n",
            "\u001b[K     |████████████████████████████████| 3.1MB 28.2MB/s \n",
            "\u001b[?25hRequirement already satisfied: requests in /usr/local/lib/python3.6/dist-packages (from transformers>=2.3.0->flair) (2.21.0)\n",
            "Collecting sacremoses\n",
            "\u001b[?25l  Downloading https://files.pythonhosted.org/packages/a6/b4/7a41d630547a4afd58143597d5a49e07bfd4c42914d8335b2a5657efc14b/sacremoses-0.0.38.tar.gz (860kB)\n",
            "\u001b[K     |████████████████████████████████| 870kB 70.6MB/s \n",
            "\u001b[?25hRequirement already satisfied: numpy in /usr/local/lib/python3.6/dist-packages (from transformers>=2.3.0->flair) (1.17.5)\n",
            "Requirement already satisfied: boto3 in /usr/local/lib/python3.6/dist-packages (from transformers>=2.3.0->flair) (1.11.9)\n",
            "Requirement already satisfied: cycler>=0.10 in /usr/local/lib/python3.6/dist-packages (from matplotlib>=2.2.3->flair) (0.10.0)\n",
            "Requirement already satisfied: pyparsing!=2.0.4,!=2.1.2,!=2.1.6,>=2.0.1 in /usr/local/lib/python3.6/dist-packages (from matplotlib>=2.2.3->flair) (2.4.6)\n",
            "Requirement already satisfied: kiwisolver>=1.0.1 in /usr/local/lib/python3.6/dist-packages (from matplotlib>=2.2.3->flair) (1.1.0)\n",
            "Requirement already satisfied: six>=1.5 in /usr/local/lib/python3.6/dist-packages (from python-dateutil>=2.6.1->flair) (1.12.0)\n",
            "Requirement already satisfied: networkx in /usr/local/lib/python3.6/dist-packages (from hyperopt>=0.1.1->flair) (2.4)\n",
            "Requirement already satisfied: scipy in /usr/local/lib/python3.6/dist-packages (from hyperopt>=0.1.1->flair) (1.4.1)\n",
            "Requirement already satisfied: future in /usr/local/lib/python3.6/dist-packages (from hyperopt>=0.1.1->flair) (0.16.0)\n",
            "Requirement already satisfied: pymongo in /usr/local/lib/python3.6/dist-packages (from hyperopt>=0.1.1->flair) (3.10.1)\n",
            "Requirement already satisfied: wcwidth in /usr/local/lib/python3.6/dist-packages (from pytest>=5.3.2->flair) (0.1.8)\n",
            "Requirement already satisfied: py>=1.5.0 in /usr/local/lib/python3.6/dist-packages (from pytest>=5.3.2->flair) (1.8.1)\n",
            "Collecting pluggy<1.0,>=0.12\n",
            "  Downloading https://files.pythonhosted.org/packages/a0/28/85c7aa31b80d150b772fbe4a229487bc6644da9ccb7e427dd8cc60cb8a62/pluggy-0.13.1-py2.py3-none-any.whl\n",
            "Requirement already satisfied: more-itertools>=4.0.0 in /usr/local/lib/python3.6/dist-packages (from pytest>=5.3.2->flair) (8.2.0)\n",
            "Requirement already satisfied: packaging in /usr/local/lib/python3.6/dist-packages (from pytest>=5.3.2->flair) (20.1)\n",
            "Requirement already satisfied: importlib-metadata>=0.12; python_version < \"3.8\" in /usr/local/lib/python3.6/dist-packages (from pytest>=5.3.2->flair) (1.5.0)\n",
            "Requirement already satisfied: attrs>=17.4.0 in /usr/local/lib/python3.6/dist-packages (from pytest>=5.3.2->flair) (19.3.0)\n",
            "Requirement already satisfied: smart-open>=1.2.1 in /usr/local/lib/python3.6/dist-packages (from gensim>=3.4.0->flair) (1.9.0)\n",
            "Requirement already satisfied: joblib>=0.11 in /usr/local/lib/python3.6/dist-packages (from scikit-learn>=0.21.3->flair) (0.14.1)\n",
            "Requirement already satisfied: idna<2.9,>=2.5 in /usr/local/lib/python3.6/dist-packages (from requests->transformers>=2.3.0->flair) (2.8)\n",
            "Requirement already satisfied: certifi>=2017.4.17 in /usr/local/lib/python3.6/dist-packages (from requests->transformers>=2.3.0->flair) (2019.11.28)\n",
            "Requirement already satisfied: chardet<3.1.0,>=3.0.2 in /usr/local/lib/python3.6/dist-packages (from requests->transformers>=2.3.0->flair) (3.0.4)\n",
            "Requirement already satisfied: click in /usr/local/lib/python3.6/dist-packages (from sacremoses->transformers>=2.3.0->flair) (7.0)\n",
            "Requirement already satisfied: s3transfer<0.4.0,>=0.3.0 in /usr/local/lib/python3.6/dist-packages (from boto3->transformers>=2.3.0->flair) (0.3.2)\n",
            "Requirement already satisfied: jmespath<1.0.0,>=0.7.1 in /usr/local/lib/python3.6/dist-packages (from boto3->transformers>=2.3.0->flair) (0.9.4)\n",
            "Requirement already satisfied: botocore<1.15.0,>=1.14.9 in /usr/local/lib/python3.6/dist-packages (from boto3->transformers>=2.3.0->flair) (1.14.9)\n",
            "Requirement already satisfied: setuptools in /usr/local/lib/python3.6/dist-packages (from kiwisolver>=1.0.1->matplotlib>=2.2.3->flair) (45.1.0)\n",
            "Requirement already satisfied: decorator>=4.3.0 in /usr/local/lib/python3.6/dist-packages (from networkx->hyperopt>=0.1.1->flair) (4.4.1)\n",
            "Requirement already satisfied: zipp>=0.5 in /usr/local/lib/python3.6/dist-packages (from importlib-metadata>=0.12; python_version < \"3.8\"->pytest>=5.3.2->flair) (2.1.0)\n",
            "Requirement already satisfied: boto>=2.32 in /usr/local/lib/python3.6/dist-packages (from smart-open>=1.2.1->gensim>=3.4.0->flair) (2.49.0)\n",
            "Requirement already satisfied: docutils<0.16,>=0.10 in /usr/local/lib/python3.6/dist-packages (from botocore<1.15.0,>=1.14.9->boto3->transformers>=2.3.0->flair) (0.15.2)\n",
            "Building wheels for collected packages: sqlitedict, mpld3, langdetect, segtok, sacremoses\n",
            "  Building wheel for sqlitedict (setup.py) ... \u001b[?25l\u001b[?25hdone\n",
            "  Created wheel for sqlitedict: filename=sqlitedict-1.6.0-cp36-none-any.whl size=14689 sha256=8f45bce967f8d4be7d9a4f03f9a5af90b1a5f95963e370b8000d13cc77b12ec5\n",
            "  Stored in directory: /root/.cache/pip/wheels/bd/57/d3/907c3ee02d35e66f674ad0106e61f06eeeb98f6ee66a6cc3fe\n",
            "  Building wheel for mpld3 (setup.py) ... \u001b[?25l\u001b[?25hdone\n",
            "  Created wheel for mpld3: filename=mpld3-0.3-cp36-none-any.whl size=116679 sha256=845306e239b71d17115f39c9aa5378e9ff4bc30d57a5fdb96c49baf49a8c15f4\n",
            "  Stored in directory: /root/.cache/pip/wheels/c0/47/fb/8a64f89aecfe0059830479308ad42d62e898a3e3cefdf6ba28\n",
            "  Building wheel for langdetect (setup.py) ... \u001b[?25l\u001b[?25hdone\n",
            "  Created wheel for langdetect: filename=langdetect-1.0.7-cp36-none-any.whl size=993459 sha256=d7a488b476cd426256ba4742d5fe430416f0278882118f2a6ef40cb6f4055019\n",
            "  Stored in directory: /root/.cache/pip/wheels/ec/0c/a9/1647275e7ef5014e7b83ff30105180e332867d65e7617ddafe\n",
            "  Building wheel for segtok (setup.py) ... \u001b[?25l\u001b[?25hdone\n",
            "  Created wheel for segtok: filename=segtok-1.5.7-cp36-none-any.whl size=23258 sha256=3e5f78f66cbe52ae701d1423c055b5e7a97cc3ffafdc14728a38a9fb17e1d70b\n",
            "  Stored in directory: /root/.cache/pip/wheels/15/ee/a8/6112173f1386d33eebedb3f73429cfa41a4c3084556bcee254\n",
            "  Building wheel for sacremoses (setup.py) ... \u001b[?25l\u001b[?25hdone\n",
            "  Created wheel for sacremoses: filename=sacremoses-0.0.38-cp36-none-any.whl size=884628 sha256=964d5e3eaf8568838483b1b64233af4e1f2506c9651bda92785a4a591289b0b0\n",
            "  Stored in directory: /root/.cache/pip/wheels/6d/ec/1a/21b8912e35e02741306f35f66c785f3afe94de754a0eaf1422\n",
            "Successfully built sqlitedict mpld3 langdetect segtok sacremoses\n",
            "\u001b[31mERROR: datascience 0.10.6 has requirement folium==0.2.1, but you'll have folium 0.8.3 which is incompatible.\u001b[0m\n",
            "Installing collected packages: deprecated, sqlitedict, sentencepiece, tokenizers, sacremoses, transformers, bpemb, mpld3, langdetect, pluggy, pytest, segtok, flair\n",
            "  Found existing installation: pluggy 0.7.1\n",
            "    Uninstalling pluggy-0.7.1:\n",
            "      Successfully uninstalled pluggy-0.7.1\n",
            "  Found existing installation: pytest 3.6.4\n",
            "    Uninstalling pytest-3.6.4:\n",
            "      Successfully uninstalled pytest-3.6.4\n",
            "Successfully installed bpemb-0.3.0 deprecated-1.2.7 flair-0.4.5 langdetect-1.0.7 mpld3-0.3 pluggy-0.13.1 pytest-5.3.5 sacremoses-0.0.38 segtok-1.5.7 sentencepiece-0.1.85 sqlitedict-1.6.0 tokenizers-0.0.11 transformers-2.4.1\n"
          ],
          "name": "stdout"
        }
      ]
    },
    {
      "cell_type": "code",
      "metadata": {
        "id": "wkv4vIz3Ud8f",
        "colab_type": "code",
        "outputId": "5a6c4f10-6e9b-4c50-9b8e-c3e7a55ff824",
        "colab": {
          "base_uri": "https://localhost:8080/",
          "height": 35
        }
      },
      "source": [
        "torch.cuda.current_device()"
      ],
      "execution_count": 13,
      "outputs": [
        {
          "output_type": "execute_result",
          "data": {
            "text/plain": [
              "0"
            ]
          },
          "metadata": {
            "tags": []
          },
          "execution_count": 13
        }
      ]
    },
    {
      "cell_type": "code",
      "metadata": {
        "id": "SkwefB5kUlCG",
        "colab_type": "code",
        "outputId": "4084b85d-bd57-41c2-d3c0-40be6eac3014",
        "colab": {
          "base_uri": "https://localhost:8080/",
          "height": 35
        }
      },
      "source": [
        "device = torch.device('cuda')\n",
        "torch.cuda.current_device()"
      ],
      "execution_count": 14,
      "outputs": [
        {
          "output_type": "execute_result",
          "data": {
            "text/plain": [
              "0"
            ]
          },
          "metadata": {
            "tags": []
          },
          "execution_count": 14
        }
      ]
    },
    {
      "cell_type": "code",
      "metadata": {
        "id": "Hnn1ORrcRfdV",
        "colab_type": "code",
        "outputId": "5a76e4e7-045d-4992-b5e8-0b006fb9d8ec",
        "colab": {
          "base_uri": "https://localhost:8080/",
          "height": 365
        }
      },
      "source": [
        "from flair.embeddings import WordEmbeddings, FlairEmbeddings, StackedEmbeddings\n",
        "from flair.data import Sentence\n",
        "\n",
        "# init standard GloVe embedding\n",
        "glove_embedding = WordEmbeddings('glove')\n",
        "\n",
        "# init Flair forward and backwards embeddings\n",
        "flair_embedding_forward = FlairEmbeddings('news-forward')\n",
        "flair_embedding_backward = FlairEmbeddings('news-backward')\n",
        "# create a StackedEmbedding object that combines glove and forward/backward flair embeddings\n",
        "stacked_embeddings = StackedEmbeddings([\n",
        "                                        glove_embedding,\n",
        "                                        flair_embedding_forward,\n",
        "                                        flair_embedding_backward,\n",
        "                                       ])"
      ],
      "execution_count": 128,
      "outputs": [
        {
          "output_type": "stream",
          "text": [
            "2020-02-05 16:01:19,002 https://s3.eu-central-1.amazonaws.com/alan-nlp/resources/embeddings/glove.gensim.vectors.npy not found in cache, downloading to /tmp/tmpnwl4lerj\n"
          ],
          "name": "stdout"
        },
        {
          "output_type": "stream",
          "text": [
            "100%|██████████| 160000128/160000128 [00:10<00:00, 14863070.99B/s]"
          ],
          "name": "stderr"
        },
        {
          "output_type": "stream",
          "text": [
            "2020-02-05 16:01:30,501 copying /tmp/tmpnwl4lerj to cache at /root/.flair/embeddings/glove.gensim.vectors.npy\n"
          ],
          "name": "stdout"
        },
        {
          "output_type": "stream",
          "text": [
            "\n"
          ],
          "name": "stderr"
        },
        {
          "output_type": "stream",
          "text": [
            "2020-02-05 16:01:30,727 removing temp file /tmp/tmpnwl4lerj\n",
            "2020-02-05 16:01:31,361 https://s3.eu-central-1.amazonaws.com/alan-nlp/resources/embeddings/glove.gensim not found in cache, downloading to /tmp/tmp59inh2q5\n"
          ],
          "name": "stdout"
        },
        {
          "output_type": "stream",
          "text": [
            "100%|██████████| 21494764/21494764 [00:05<00:00, 4115466.72B/s]"
          ],
          "name": "stderr"
        },
        {
          "output_type": "stream",
          "text": [
            "2020-02-05 16:01:37,260 copying /tmp/tmp59inh2q5 to cache at /root/.flair/embeddings/glove.gensim\n",
            "2020-02-05 16:01:37,281 removing temp file /tmp/tmp59inh2q5\n"
          ],
          "name": "stdout"
        },
        {
          "output_type": "stream",
          "text": [
            "\n",
            "/usr/local/lib/python3.6/dist-packages/smart_open/smart_open_lib.py:402: UserWarning: This function is deprecated, use smart_open.open instead. See the migration notes for details: https://github.com/RaRe-Technologies/smart_open/blob/master/README.rst#migrating-to-the-new-open-function\n",
            "  'See the migration notes for details: %s' % _MIGRATION_NOTES_URL\n"
          ],
          "name": "stderr"
        },
        {
          "output_type": "stream",
          "text": [
            "2020-02-05 16:01:39,478 https://s3.eu-central-1.amazonaws.com/alan-nlp/resources/embeddings-v0.4.1/big-news-forward--h2048-l1-d0.05-lr30-0.25-20/news-forward-0.4.1.pt not found in cache, downloading to /tmp/tmpgw11eonn\n"
          ],
          "name": "stdout"
        },
        {
          "output_type": "stream",
          "text": [
            "100%|██████████| 73034624/73034624 [00:05<00:00, 12381958.90B/s]"
          ],
          "name": "stderr"
        },
        {
          "output_type": "stream",
          "text": [
            "2020-02-05 16:01:46,085 copying /tmp/tmpgw11eonn to cache at /root/.flair/embeddings/news-forward-0.4.1.pt\n"
          ],
          "name": "stdout"
        },
        {
          "output_type": "stream",
          "text": [
            "\n"
          ],
          "name": "stderr"
        },
        {
          "output_type": "stream",
          "text": [
            "2020-02-05 16:01:46,184 removing temp file /tmp/tmpgw11eonn\n",
            "2020-02-05 16:01:48,882 https://s3.eu-central-1.amazonaws.com/alan-nlp/resources/embeddings-v0.4.1/big-news-backward--h2048-l1-d0.05-lr30-0.25-20/news-backward-0.4.1.pt not found in cache, downloading to /tmp/tmpzsu2nvul\n"
          ],
          "name": "stdout"
        },
        {
          "output_type": "stream",
          "text": [
            "100%|██████████| 73034575/73034575 [00:05<00:00, 12581311.14B/s]"
          ],
          "name": "stderr"
        },
        {
          "output_type": "stream",
          "text": [
            "2020-02-05 16:01:55,416 copying /tmp/tmpzsu2nvul to cache at /root/.flair/embeddings/news-backward-0.4.1.pt\n"
          ],
          "name": "stdout"
        },
        {
          "output_type": "stream",
          "text": [
            "\n"
          ],
          "name": "stderr"
        },
        {
          "output_type": "stream",
          "text": [
            "2020-02-05 16:01:55,482 removing temp file /tmp/tmpzsu2nvul\n"
          ],
          "name": "stdout"
        }
      ]
    },
    {
      "cell_type": "code",
      "metadata": {
        "id": "algmffqFRfde",
        "colab_type": "code",
        "outputId": "fd06b07d-2f39-4a51-e6b0-ce9bfda7f8e2",
        "colab": {
          "base_uri": "https://localhost:8080/",
          "height": 35
        }
      },
      "source": [
        "stacked_embeddings.embedding_length"
      ],
      "execution_count": 129,
      "outputs": [
        {
          "output_type": "execute_result",
          "data": {
            "text/plain": [
              "4196"
            ]
          },
          "metadata": {
            "tags": []
          },
          "execution_count": 129
        }
      ]
    },
    {
      "cell_type": "code",
      "metadata": {
        "id": "hJAKcO9cRfdp",
        "colab_type": "code",
        "colab": {}
      },
      "source": [
        "from ipywidgets import IntProgress, HTML, VBox\n",
        "from IPython.display import display\n",
        "from time import time"
      ],
      "execution_count": 0,
      "outputs": []
    },
    {
      "cell_type": "code",
      "metadata": {
        "id": "uPqEzSttRfdy",
        "colab_type": "code",
        "colab": {}
      },
      "source": [
        "def compute_embedding(data, emb):\n",
        "    '''\n",
        "        Use a flair embedding to compute the embedding of a list of words\n",
        "    '''\n",
        "    tenso = torch.zeros(len(data), emb.embedding_length)\n",
        "    progress = IntProgress(min=0, max=len(data)) # instantiate the bar\n",
        "    label = HTML()\n",
        "    box = VBox(children=[progress, label])\n",
        "    display(box)\n",
        "    t0 = time()\n",
        "    for i in range(len(data)):\n",
        "        m = max(0,  i -10)\n",
        "        m2 = min (len(data), i + 11)\n",
        "        s = Sentence(\" \".join(data[m:m2]))\n",
        "        emb.embed(s)\n",
        "        tenso[i] = s.tokens[i -m].embedding\n",
        "        progress.value +=1\n",
        "        t = time()\n",
        "        label.value = f'Processing word {i}/{len(data)}, time by word: {t -t0}s'\n",
        "        t0 = t\n",
        "    return tenso\n",
        "        "
      ],
      "execution_count": 0,
      "outputs": []
    },
    {
      "cell_type": "code",
      "metadata": {
        "scrolled": false,
        "id": "F-PQGEGNRfd6",
        "colab_type": "code",
        "outputId": "6ce1ad2b-6f4b-49d9-9a61-05fa86e340c0",
        "colab": {
          "base_uri": "https://localhost:8080/",
          "height": 81,
          "referenced_widgets": [
            "12ede478560348d1b981c59e9b0ce309",
            "61f2890aed814e52afe59c0473263f26",
            "35198e4d1ed64a3680dae32c97c6a827",
            "847c143c6c9549d4bb9e80be43465d0f",
            "d77506d5b6e94839b82498790b3b03c2",
            "9145fd0aa4b64dac82f37d44c7376ca1",
            "8b32f5aa4c0448089ca3f1181db3135e",
            "b7d9e506c86d45e0919d9cb515c7bdb5"
          ]
        }
      },
      "source": [
        "t = compute_embedding([i[1] for i in w], stacked_embeddings)"
      ],
      "execution_count": 132,
      "outputs": [
        {
          "output_type": "display_data",
          "data": {
            "application/vnd.jupyter.widget-view+json": {
              "model_id": "12ede478560348d1b981c59e9b0ce309",
              "version_minor": 0,
              "version_major": 2
            },
            "text/plain": [
              "VBox(children=(IntProgress(value=0, max=720), HTML(value='')))"
            ]
          },
          "metadata": {
            "tags": []
          }
        }
      ]
    },
    {
      "cell_type": "code",
      "metadata": {
        "id": "DXDqqF7IV6Ze",
        "colab_type": "code",
        "colab": {}
      },
      "source": [
        "from sklearn.decomposition import PCA\n",
        "import numpy as np\n",
        "pca = PCA(n_components=2)\n"
      ],
      "execution_count": 0,
      "outputs": []
    },
    {
      "cell_type": "code",
      "metadata": {
        "id": "Vdl2neVzWFV3",
        "colab_type": "code",
        "colab": {}
      },
      "source": [
        "pca.fit(t)\n",
        "pdata = pca.transform(t)"
      ],
      "execution_count": 0,
      "outputs": []
    },
    {
      "cell_type": "code",
      "metadata": {
        "id": "q3pMhyxEWe1B",
        "colab_type": "code",
        "outputId": "5a0fba79-ebaa-46db-cc66-f2f1a3a32ea8",
        "colab": {
          "base_uri": "https://localhost:8080/",
          "height": 283
        }
      },
      "source": [
        "%matplotlib inline\n",
        "def col(string):\n",
        "  return 9 - targets[string]\n",
        "fig, ax = plt.subplots()\n",
        "z = pdata[:,0][:100]\n",
        "y = pdata[:,1][:100]\n",
        "ax.scatter(z, y, c=[col(i[0]) for i in w][:100])\n",
        "\n",
        "# for i, txt in enumerate(w[:100]):\n",
        "    # ax.annotate(txt[1] if txt[0] != 'O' else '', (z[i], y[i]))"
      ],
      "execution_count": 135,
      "outputs": [
        {
          "output_type": "execute_result",
          "data": {
            "text/plain": [
              "<matplotlib.collections.PathCollection at 0x7f3dd46f69e8>"
            ]
          },
          "metadata": {
            "tags": []
          },
          "execution_count": 135
        },
        {
          "output_type": "display_data",
          "data": {
            "image/png": "[encoded data removed]",
            "text/plain": [
              "<Figure size 432x288 with 1 Axes>"
            ]
          },
          "metadata": {
            "tags": []
          }
        }
      ]
    },
    {
      "cell_type": "code",
      "metadata": {
        "id": "HwBiZulueTpn",
        "colab_type": "code",
        "colab": {}
      },
      "source": [
        "import torch\n",
        "import torch.nn as nn"
      ],
      "execution_count": 0,
      "outputs": []
    },
    {
      "cell_type": "code",
      "metadata": {
        "id": "sPU0K4aIjJCh",
        "colab_type": "code",
        "colab": {}
      },
      "source": [
        "class Model(nn.Module):\n",
        "\n",
        "  def __init__(self):\n",
        "    super(Model,self).__init__()\n",
        "\n",
        "    self.l1 = nn.Linear(4196,100)\n",
        "    self.relu = nn.ReLU()\n",
        "    self.softmax = nn.Softmax()\n",
        "    self.l2 = nn.Linear(100,50)\n",
        "    self.l3 = nn.Linear(50,10)\n",
        "  \n",
        "  def forward(self, inputs):\n",
        "    o1 = self.relu(self.l1(inputs))\n",
        "    o2 = self.relu(self.l2(o1))\n",
        "    return self.softmax(self.l3(o2))"
      ],
      "execution_count": 0,
      "outputs": []
    },
    {
      "cell_type": "code",
      "metadata": {
        "id": "MkGaE9WYwJcr",
        "colab_type": "code",
        "colab": {}
      },
      "source": [
        "model = Model()\n",
        "\n",
        "# Choose the hyperparameters for training: \n",
        "num_epochs = 100\n",
        "batch_size = 10\n",
        "\n",
        "# Use mean squared loss function \n",
        "criterion = nn.CrossEntropyLoss(torch.tensor([10.0]*9+[1.0]))\n",
        "\n",
        "# Use SGD optimizer with a learning rate of 0.01\n",
        "# It is initialized on our model\n",
        "optimizer = torch.optim.Adam(model.parameters(), lr=0.0001)"
      ],
      "execution_count": 0,
      "outputs": []
    },
    {
      "cell_type": "code",
      "metadata": {
        "id": "keMh2fkuxvIK",
        "colab_type": "code",
        "colab": {}
      },
      "source": [
        "from torch.utils.data import DataLoader, random_split, TensorDataset\n",
        "\n",
        "\n"
      ],
      "execution_count": 0,
      "outputs": []
    },
    {
      "cell_type": "code",
      "metadata": {
        "id": "GsaCcqv9yM43",
        "colab_type": "code",
        "colab": {}
      },
      "source": [
        "dataset = TensorDataset(t, compute_target(w))"
      ],
      "execution_count": 0,
      "outputs": []
    },
    {
      "cell_type": "code",
      "metadata": {
        "id": "_ByHOmxvwY-s",
        "colab_type": "code",
        "colab": {}
      },
      "source": [
        "def train(num_epochs, batch_size, criterion, optimizer, model, dataset):\n",
        "  train_error = []\n",
        "  train_loader = DataLoader(dataset, batch_size, shuffle=True)\n",
        "  model.train()\n",
        "  for epoch in range(num_epochs):\n",
        "    epoch_average_loss = 0.0\n",
        "    for (words, labels) in train_loader:\n",
        "      y_pred = model(words)\n",
        "      loss = criterion(y_pred, labels)\n",
        "      optimizer.zero_grad()\n",
        "      loss.backward()\n",
        "      optimizer.step()\n",
        "      epoch_average_loss += loss.item() * batch_size / len(dataset)\n",
        "    train_error.append(epoch_average_loss)\n",
        "    print('Epoch [{}/{}], Loss: {:.4f}'\n",
        "          .format(epoch+1, num_epochs, epoch_average_loss))\n",
        "  return  train_error\n"
      ],
      "execution_count": 0,
      "outputs": []
    },
    {
      "cell_type": "code",
      "metadata": {
        "id": "T10XOuZR2Uv3",
        "colab_type": "code",
        "colab": {
          "base_uri": "https://localhost:8080/",
          "height": 1000
        },
        "outputId": "c4f11afe-9342-4ade-d786-9960adfc89c6"
      },
      "source": [
        "train_error = train(num_epochs,batch_size, criterion, optimizer, model, dataset)"
      ],
      "execution_count": 217,
      "outputs": [
        {
          "output_type": "stream",
          "text": [
            "/usr/local/lib/python3.6/dist-packages/ipykernel_launcher.py:15: UserWarning: Implicit dimension choice for softmax has been deprecated. Change the call to include dim=X as an argument.\n",
            "  from ipykernel import kernelapp as app\n"
          ],
          "name": "stderr"
        },
        {
          "output_type": "stream",
          "text": [
            "Epoch [1/100], Loss: 2.2965\n",
            "Epoch [2/100], Loss: 2.1460\n",
            "Epoch [3/100], Loss: 1.8320\n",
            "Epoch [4/100], Loss: 1.7495\n",
            "Epoch [5/100], Loss: 1.7534\n",
            "Epoch [6/100], Loss: 1.7032\n",
            "Epoch [7/100], Loss: 1.6727\n",
            "Epoch [8/100], Loss: 1.6668\n",
            "Epoch [9/100], Loss: 1.6602\n",
            "Epoch [10/100], Loss: 1.6532\n",
            "Epoch [11/100], Loss: 1.6645\n",
            "Epoch [12/100], Loss: 1.6272\n",
            "Epoch [13/100], Loss: 1.6238\n",
            "Epoch [14/100], Loss: 1.6249\n",
            "Epoch [15/100], Loss: 1.6122\n",
            "Epoch [16/100], Loss: 1.5987\n",
            "Epoch [17/100], Loss: 1.5737\n",
            "Epoch [18/100], Loss: 1.5816\n",
            "Epoch [19/100], Loss: 1.5728\n",
            "Epoch [20/100], Loss: 1.5685\n",
            "Epoch [21/100], Loss: 1.5614\n",
            "Epoch [22/100], Loss: 1.5584\n",
            "Epoch [23/100], Loss: 1.5476\n",
            "Epoch [24/100], Loss: 1.5301\n",
            "Epoch [25/100], Loss: 1.5339\n",
            "Epoch [26/100], Loss: 1.5344\n",
            "Epoch [27/100], Loss: 1.5250\n",
            "Epoch [28/100], Loss: 1.5210\n",
            "Epoch [29/100], Loss: 1.5181\n",
            "Epoch [30/100], Loss: 1.5143\n",
            "Epoch [31/100], Loss: 1.5196\n",
            "Epoch [32/100], Loss: 1.5088\n",
            "Epoch [33/100], Loss: 1.5044\n",
            "Epoch [34/100], Loss: 1.5011\n",
            "Epoch [35/100], Loss: 1.5000\n",
            "Epoch [36/100], Loss: 1.5027\n",
            "Epoch [37/100], Loss: 1.4990\n",
            "Epoch [38/100], Loss: 1.5050\n",
            "Epoch [39/100], Loss: 1.4998\n",
            "Epoch [40/100], Loss: 1.5038\n",
            "Epoch [41/100], Loss: 1.4948\n",
            "Epoch [42/100], Loss: 1.4987\n",
            "Epoch [43/100], Loss: 1.4973\n",
            "Epoch [44/100], Loss: 1.4972\n",
            "Epoch [45/100], Loss: 1.5005\n",
            "Epoch [46/100], Loss: 1.4990\n",
            "Epoch [47/100], Loss: 1.4955\n",
            "Epoch [48/100], Loss: 1.4942\n",
            "Epoch [49/100], Loss: 1.5019\n",
            "Epoch [50/100], Loss: 1.4932\n",
            "Epoch [51/100], Loss: 1.5006\n",
            "Epoch [52/100], Loss: 1.4950\n",
            "Epoch [53/100], Loss: 1.4948\n",
            "Epoch [54/100], Loss: 1.4925\n",
            "Epoch [55/100], Loss: 1.4947\n",
            "Epoch [56/100], Loss: 1.4979\n",
            "Epoch [57/100], Loss: 1.4904\n",
            "Epoch [58/100], Loss: 1.4887\n",
            "Epoch [59/100], Loss: 1.4934\n",
            "Epoch [60/100], Loss: 1.4983\n",
            "Epoch [61/100], Loss: 1.4947\n",
            "Epoch [62/100], Loss: 1.4930\n",
            "Epoch [63/100], Loss: 1.4907\n",
            "Epoch [64/100], Loss: 1.4879\n",
            "Epoch [65/100], Loss: 1.4853\n",
            "Epoch [66/100], Loss: 1.4852\n",
            "Epoch [67/100], Loss: 1.4835\n",
            "Epoch [68/100], Loss: 1.4784\n",
            "Epoch [69/100], Loss: 1.4754\n",
            "Epoch [70/100], Loss: 1.4774\n",
            "Epoch [71/100], Loss: 1.4738\n",
            "Epoch [72/100], Loss: 1.4778\n",
            "Epoch [73/100], Loss: 1.4772\n",
            "Epoch [74/100], Loss: 1.4771\n",
            "Epoch [75/100], Loss: 1.4726\n",
            "Epoch [76/100], Loss: 1.4731\n",
            "Epoch [77/100], Loss: 1.4728\n",
            "Epoch [78/100], Loss: 1.4737\n",
            "Epoch [79/100], Loss: 1.4734\n",
            "Epoch [80/100], Loss: 1.4747\n",
            "Epoch [81/100], Loss: 1.4705\n",
            "Epoch [82/100], Loss: 1.4671\n",
            "Epoch [83/100], Loss: 1.4696\n",
            "Epoch [84/100], Loss: 1.4678\n",
            "Epoch [85/100], Loss: 1.4654\n",
            "Epoch [86/100], Loss: 1.4646\n",
            "Epoch [87/100], Loss: 1.4640\n",
            "Epoch [88/100], Loss: 1.4633\n",
            "Epoch [89/100], Loss: 1.4633\n",
            "Epoch [90/100], Loss: 1.4629\n",
            "Epoch [91/100], Loss: 1.4628\n",
            "Epoch [92/100], Loss: 1.4627\n",
            "Epoch [93/100], Loss: 1.4624\n",
            "Epoch [94/100], Loss: 1.4625\n",
            "Epoch [95/100], Loss: 1.4622\n",
            "Epoch [96/100], Loss: 1.4621\n",
            "Epoch [97/100], Loss: 1.4621\n",
            "Epoch [98/100], Loss: 1.4621\n",
            "Epoch [99/100], Loss: 1.4620\n",
            "Epoch [100/100], Loss: 1.4619\n"
          ],
          "name": "stdout"
        }
      ]
    },
    {
      "cell_type": "code",
      "metadata": {
        "id": "T7LpDvKj4Zcr",
        "colab_type": "code",
        "colab": {
          "base_uri": "https://localhost:8080/",
          "height": 314
        },
        "outputId": "32e47c37-2c0d-4b9d-a1aa-8b94d5114392"
      },
      "source": [
        "# plot the training error wrt. the number of epochs: \n",
        "plt.plot(range(1, num_epochs+1), train_error)\n",
        "plt.xlabel(\"num_epochs\")\n",
        "plt.ylabel(\"Train error\")\n",
        "plt.title(\"Visualization of convergence\")"
      ],
      "execution_count": 218,
      "outputs": [
        {
          "output_type": "execute_result",
          "data": {
            "text/plain": [
              "Text(0.5, 1.0, 'Visualization of convergence')"
            ]
          },
          "metadata": {
            "tags": []
          },
          "execution_count": 218
        },
        {
          "output_type": "display_data",
          "data": {
            "image/png": "[encoded data removed]",
            "text/plain": [
              "<Figure size 432x288 with 1 Axes>"
            ]
          },
          "metadata": {
            "tags": []
          }
        }
      ]
    },
    {
      "cell_type": "code",
      "metadata": {
        "id": "RGGWAEX_4dsB",
        "colab_type": "code",
        "colab": {}
      },
      "source": [
        "# Calculate the accuracy to evaluate the model\n",
        "def accuracy(dataset, model):\n",
        "\n",
        "    with torch.no_grad():\n",
        "        word_correct = 0\n",
        "        dataloader = DataLoader(dataset)\n",
        "        for words, labels in dataloader:\n",
        "            #images = images.view(-1, 28*28)\n",
        "            y_pred = model(words)\n",
        "            _, word_predicted = torch.max(y_pred.data, 1) \n",
        "            word_correct += (word_predicted == labels).sum()\n",
        "        print('Accuracy of the model for numbers : {:.2f} %'.format(100*word_correct.item()/ len(dataset)))\n",
        "\n",
        "         "
      ],
      "execution_count": 0,
      "outputs": []
    },
    {
      "cell_type": "code",
      "metadata": {
        "id": "7Ton0Qha7Ump",
        "colab_type": "code",
        "colab": {
          "base_uri": "https://localhost:8080/",
          "height": 92
        },
        "outputId": "89523dc3-c682-4623-a5e8-4aa24fd1ec79"
      },
      "source": [
        "accuracy(dataset, model)"
      ],
      "execution_count": 220,
      "outputs": [
        {
          "output_type": "stream",
          "text": [
            "Accuracy of the model for numbers : 100.00 %\n"
          ],
          "name": "stdout"
        },
        {
          "output_type": "stream",
          "text": [
            "/usr/local/lib/python3.6/dist-packages/ipykernel_launcher.py:15: UserWarning: Implicit dimension choice for softmax has been deprecated. Change the call to include dim=X as an argument.\n",
            "  from ipykernel import kernelapp as app\n"
          ],
          "name": "stderr"
        }
      ]
    },
    {
      "cell_type": "code",
      "metadata": {
        "id": "1RPHHvwG7S4n",
        "colab_type": "code",
        "colab": {}
      },
      "source": [
        "from sklearn.metrics import confusion_matrix\n",
        "from matplotlib.colors import LogNorm\n",
        "from pylab import figure, cm\n",
        "\n",
        "def conf_mat(dataset,model):\n",
        "    words, labels = dataset.tensors\n",
        "    y_pred = model(words)\n",
        "    _, word_predicted = torch.max(y_pred.data, 1) \n",
        "    return confusion_matrix(word_predicted, labels)\n",
        "\n"
      ],
      "execution_count": 0,
      "outputs": []
    },
    {
      "cell_type": "code",
      "metadata": {
        "id": "Km4bJy_LCkV3",
        "colab_type": "code",
        "colab": {}
      },
      "source": [
        "from itertools import product"
      ],
      "execution_count": 0,
      "outputs": []
    },
    {
      "cell_type": "code",
      "metadata": {
        "id": "RL_ndmQh4ZqF",
        "colab_type": "code",
        "colab": {
          "base_uri": "https://localhost:8080/",
          "height": 424
        },
        "outputId": "d4311b98-9d1a-4c47-e6ca-73777f549cf6"
      },
      "source": [
        "mat = conf_mat(dataset,model)\n",
        "f = plt.figure(figsize=(6.2,5.6))\n",
        "ax = f.add_subplot(111)\n",
        "im = ax.matshow(mat, norm=LogNorm(vmin=0.01, vmax=1000))\n",
        "f.colorbar(im)\n",
        "for i,j in product(range(10), range(10)):\n",
        "  ax.text(j-0.2,i, str(mat[i][j]) if mat[i,j]>0 else '')\n",
        "f.show()\n",
        "for ind, i in enumerate(targets):\n",
        "  print(i,ind, end='|')"
      ],
      "execution_count": 223,
      "outputs": [
        {
          "output_type": "stream",
          "text": [
            "/usr/local/lib/python3.6/dist-packages/ipykernel_launcher.py:15: UserWarning: Implicit dimension choice for softmax has been deprecated. Change the call to include dim=X as an argument.\n",
            "  from ipykernel import kernelapp as app\n"
          ],
          "name": "stderr"
        },
        {
          "output_type": "stream",
          "text": [
            "DOCTOR 0|HOSPITAL 1|MEDICALRECORD 2|STREET 3|CITY 4|STATE 5|ZIP 6|DATE 7|PATIENT 8|O 9|"
          ],
          "name": "stdout"
        },
        {
          "output_type": "display_data",
          "data": {
            "image/png": "[encoded data removed]",
            "text/plain": [
              "<Figure size 446.4x403.2 with 2 Axes>"
            ]
          },
          "metadata": {
            "tags": []
          }
        }
      ]
    },
    {
      "cell_type": "code",
      "metadata": {
        "id": "H7ogXpcIRfeD",
        "colab_type": "code",
        "colab": {}
      },
      "source": [
        "import pickle as pkl\n",
        "with open('embedding.pkl', 'wb') as fp:\n",
        "    pkl.dump(t, fp)"
      ],
      "execution_count": 0,
      "outputs": []
    },
    {
      "cell_type": "code",
      "metadata": {
        "id": "ck4jsnIXRfeN",
        "colab_type": "code",
        "colab": {}
      },
      "source": [
        "def sentence_maker(words, size, step):\n",
        "    n = len(words)\n",
        "    res = []\n",
        "    ind = 0\n",
        "    while ind + size <= n:\n",
        "        res.append(\" \".join(words[ind: ind + size]))\n",
        "        ind = ind + step\n",
        "    return res\n",
        "    "
      ],
      "execution_count": 0,
      "outputs": []
    },
    {
      "cell_type": "code",
      "metadata": {
        "collapsed": true,
        "id": "H-H871fKRfeV",
        "colab_type": "code",
        "outputId": "8c8098ce-0a3a-4ce6-b5c8-ff3766f35fa3",
        "colab": {}
      },
      "source": [
        "s = sentence_maker([i[1] for i in w], 10, 5)\n",
        "s[:10]"
      ],
      "execution_count": 0,
      "outputs": [
        {
          "output_type": "execute_result",
          "data": {
            "text/plain": [
              "['Record date: 2070-02-24 February 24, 2070 Leon F. Craft, M.D.',\n",
              " '2070 Leon F. Craft, M.D. North Penn Hospital 169 Tamworth',\n",
              " 'North Penn Hospital 169 Tamworth Place Garnett, CA 47749 RE:',\n",
              " 'Place Garnett, CA 47749 RE: Peter Joshi MR 453-39-84-4 Dear',\n",
              " 'Peter Joshi MR 453-39-84-4 Dear Dr. Craft: I had the',\n",
              " 'Dr. Craft: I had the pleasure of meeting Peter Joshi',\n",
              " 'pleasure of meeting Peter Joshi in the Cardiology Clinic on',\n",
              " 'in the Cardiology Clinic on February 24th. Mr. Joshi presents',\n",
              " 'February 24th. Mr. Joshi presents with a complaint of dyspnea',\n",
              " 'with a complaint of dyspnea and oxygen requirement. The patient']"
            ]
          },
          "metadata": {
            "tags": []
          },
          "execution_count": 74
        }
      ]
    },
    {
      "cell_type": "code",
      "metadata": {
        "collapsed": true,
        "id": "AyAyXeRuRfee",
        "colab_type": "code",
        "outputId": "7459cb63-6375-4781-b0be-f1119a366c38",
        "colab": {}
      },
      "source": [
        "sent = Sentence(s[5])\n",
        "flair_forward_embedding.embed(sent)\n",
        "'''for t in sent:\n",
        "    print(t, t.embedding)'''"
      ],
      "execution_count": 0,
      "outputs": [
        {
          "output_type": "execute_result",
          "data": {
            "text/plain": [
              "'for t in sent:\\n    print(t, t.embedding)'"
            ]
          },
          "metadata": {
            "tags": []
          },
          "execution_count": 110
        }
      ]
    },
    {
      "cell_type": "code",
      "metadata": {
        "id": "VqheCtrRRfeq",
        "colab_type": "code",
        "colab": {}
      },
      "source": [
        "from sklearn.decomposition import PCA\n",
        "import numpy as np"
      ],
      "execution_count": 0,
      "outputs": []
    },
    {
      "cell_type": "code",
      "metadata": {
        "id": "L6S-fctTRfex",
        "colab_type": "code",
        "outputId": "0cc66d88-e50c-4abd-8a0d-d9c3ad6eb681",
        "colab": {}
      },
      "source": [
        "sent.tokens[0].embedding.tolist()"
      ],
      "execution_count": 0,
      "outputs": [
        {
          "output_type": "execute_result",
          "data": {
            "text/plain": [
              "2048"
            ]
          },
          "metadata": {
            "tags": []
          },
          "execution_count": 126
        }
      ]
    },
    {
      "cell_type": "code",
      "metadata": {
        "id": "vRvgHaLrRfe5",
        "colab_type": "code",
        "outputId": "b35b9140-b8d8-487e-c552-d2ec654d320f",
        "colab": {
          "base_uri": "https://localhost:8080/",
          "height": 228
        }
      },
      "source": [
        "data = []\n",
        "for ind, t in enumerate(sent.tokens):\n",
        "    data.append(t.embedding.tolist())\n",
        "data = np.array(data)"
      ],
      "execution_count": 0,
      "outputs": [
        {
          "output_type": "error",
          "ename": "NameError",
          "evalue": "ignored",
          "traceback": [
            "\u001b[0;31m---------------------------------------------------------------------------\u001b[0m",
            "\u001b[0;31mNameError\u001b[0m                                 Traceback (most recent call last)",
            "\u001b[0;32m<ipython-input-23-1b3fdf6d42ac>\u001b[0m in \u001b[0;36m<module>\u001b[0;34m()\u001b[0m\n\u001b[1;32m      1\u001b[0m \u001b[0mdata\u001b[0m \u001b[0;34m=\u001b[0m \u001b[0;34m[\u001b[0m\u001b[0;34m]\u001b[0m\u001b[0;34m\u001b[0m\u001b[0;34m\u001b[0m\u001b[0m\n\u001b[0;32m----> 2\u001b[0;31m \u001b[0;32mfor\u001b[0m \u001b[0mind\u001b[0m\u001b[0;34m,\u001b[0m \u001b[0mt\u001b[0m \u001b[0;32min\u001b[0m \u001b[0menumerate\u001b[0m\u001b[0;34m(\u001b[0m\u001b[0msent\u001b[0m\u001b[0;34m.\u001b[0m\u001b[0mtokens\u001b[0m\u001b[0;34m)\u001b[0m\u001b[0;34m:\u001b[0m\u001b[0;34m\u001b[0m\u001b[0;34m\u001b[0m\u001b[0m\n\u001b[0m\u001b[1;32m      3\u001b[0m     \u001b[0mdata\u001b[0m\u001b[0;34m.\u001b[0m\u001b[0mappend\u001b[0m\u001b[0;34m(\u001b[0m\u001b[0mt\u001b[0m\u001b[0;34m.\u001b[0m\u001b[0membedding\u001b[0m\u001b[0;34m.\u001b[0m\u001b[0mtolist\u001b[0m\u001b[0;34m(\u001b[0m\u001b[0;34m)\u001b[0m\u001b[0;34m)\u001b[0m\u001b[0;34m\u001b[0m\u001b[0;34m\u001b[0m\u001b[0m\n\u001b[1;32m      4\u001b[0m \u001b[0mdata\u001b[0m \u001b[0;34m=\u001b[0m \u001b[0mnp\u001b[0m\u001b[0;34m.\u001b[0m\u001b[0marray\u001b[0m\u001b[0;34m(\u001b[0m\u001b[0mdata\u001b[0m\u001b[0;34m)\u001b[0m\u001b[0;34m\u001b[0m\u001b[0;34m\u001b[0m\u001b[0m\n",
            "\u001b[0;31mNameError\u001b[0m: name 'sent' is not defined"
          ]
        }
      ]
    },
    {
      "cell_type": "code",
      "metadata": {
        "id": "lMUTRhdSRfe_",
        "colab_type": "code",
        "colab": {}
      },
      "source": [
        "pca = PCA(n_components=2)\n",
        "pca.fit(data)\n",
        "pdata = pca.transform(data)"
      ],
      "execution_count": 0,
      "outputs": []
    },
    {
      "cell_type": "code",
      "metadata": {
        "collapsed": true,
        "id": "HXP2COP3RffG",
        "colab_type": "code",
        "outputId": "cef0ee28-d42f-4d70-e9f6-0061dada8dc4",
        "colab": {}
      },
      "source": [
        "fig, ax = plt.subplots()\n",
        "z = pdata[:,0]\n",
        "y = pdata[:,1]\n",
        "ax.scatter(z, y)\n",
        "\n",
        "for i, txt in enumerate(range(1, len(z) +1)):\n",
        "    ax.annotate(txt, (z[i], y[i]))"
      ],
      "execution_count": 0,
      "outputs": [
        {
          "output_type": "display_data",
          "data": {
            "image/png": "[encoded data removed]",
            "text/plain": [
              "<Figure size 432x288 with 1 Axes>"
            ]
          },
          "metadata": {
            "tags": [],
            "needs_background": "light"
          }
        }
      ]
    },
    {
      "cell_type": "code",
      "metadata": {
        "id": "T4QW53k5RffN",
        "colab_type": "code",
        "outputId": "2d603ed8-4d09-4433-8c5f-29aeebf737ed",
        "colab": {}
      },
      "source": [
        "for t in sent:\n",
        "    print(t)"
      ],
      "execution_count": 0,
      "outputs": [
        {
          "output_type": "stream",
          "text": [
            "Token: 1 Dr.\n",
            "Token: 2 Craft:\n",
            "Token: 3 I\n",
            "Token: 4 had\n",
            "Token: 5 the\n",
            "Token: 6 pleasure\n",
            "Token: 7 of\n",
            "Token: 8 meeting\n",
            "Token: 9 Peter\n",
            "Token: 10 Joshi\n"
          ],
          "name": "stdout"
        }
      ]
    },
    {
      "cell_type": "code",
      "metadata": {
        "id": "mqmpJycrRffU",
        "colab_type": "code",
        "colab": {}
      },
      "source": [
        ""
      ],
      "execution_count": 0,
      "outputs": []
    }
  ]
}